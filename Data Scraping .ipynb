{
 "cells": [
  {
   "cell_type": "code",
   "execution_count": 1,
   "id": "d3a660c0",
   "metadata": {},
   "outputs": [],
   "source": [
    "from bs4 import BeautifulSoup \n",
    "import requests \n",
    "import pandas as pd \n",
    "import numpy as np"
   ]
  },
  {
   "cell_type": "code",
   "execution_count": 2,
   "id": "10e84221",
   "metadata": {},
   "outputs": [],
   "source": [
    "url='https://wuzzuf.net/search/jobs/?a=hpb%7Cspbg&q=data%20science&start=0'\n",
    "\n",
    "page=requests.get(url)\n",
    "\n",
    "soup=BeautifulSoup(page.text,'html')\n"
   ]
  },
  {
   "cell_type": "code",
   "execution_count": 3,
   "id": "af478d85",
   "metadata": {},
   "outputs": [
    {
     "data": {
      "text/plain": [
       "<div class=\"css-1gatmva e1v1l3u10\"><style data-emotion=\"css pkv5jc\">.css-pkv5jc{position:relative;min-height:60px;}</style><div class=\"css-pkv5jc\"><a href=\"https://wuzzuf.net/jobs/careers/Care-Dental-Egypt-27404\" rel=\"noreferrer\" target=\"_blank\"><style data-emotion=\"css 17095x3\">.css-17095x3{position:absolute;right:0;top:0;width:60px;height:60px;object-fit:contain;object-position:center center;}</style></a><style data-emotion=\"css laomuu\">.css-laomuu{padding-right:60px;}</style><div class=\"css-laomuu\"><style data-emotion=\"css m604qf\">.css-m604qf{font-size:16px;font-weight:600;font-style:normal;letter-spacing:-0.4px;line-height:24px;color:#0055D9;margin:0;}</style><h2 class=\"css-m604qf\"><style data-emotion=\"css o171kl\">.css-o171kl{-webkit-text-decoration:none;text-decoration:none;color:inherit;}</style><a class=\"css-o171kl\" href=\"https://wuzzuf.net/internship/1kma8fGoLuav-AI-Data-Science-Python-Developer-Intern-Sequel-Solutions-Cairo-Egypt\" rel=\"noreferrer\" target=\"_blank\">AI &amp; Data Science Python Developer Intern</a></h2><style data-emotion=\"css d7j1kk\">.css-d7j1kk{margin-bottom:8px;overflow:hidden;text-overflow:ellipsis;}</style><div class=\"css-d7j1kk\"><style data-emotion=\"css 17s97q8\">.css-17s97q8{font-size:12px;font-weight:600;font-style:normal;letter-spacing:-0.27px;line-height:19px;color:#001433;-webkit-text-decoration:none;text-decoration:none;}</style><a class=\"css-17s97q8\" href=\"https://wuzzuf.net/jobs/careers/Care-Dental-Egypt-27404\" rel=\"noreferrer\" target=\"_blank\">Sequel Solutions -</a> <style data-emotion=\"css 5wys0k\">.css-5wys0k{font-size:12px;font-weight:600;font-style:normal;letter-spacing:-0.27px;line-height:19px;color:#4D6182;}</style><span class=\"css-5wys0k\">Cairo, <!-- -->Egypt </span><style data-emotion=\"css 4c4ojb\">.css-4c4ojb{font-size:12px;font-weight:400;font-style:normal;letter-spacing:-0.27px;line-height:19px;color:#2C9266;}</style><div class=\"css-4c4ojb\">3 days<!-- --> ago</div></div></div><style data-emotion=\"css y4udm8\">.css-y4udm8{font-size:13px;font-weight:600;font-style:normal;letter-spacing:-0.3px;line-height:20px;color:#4D6182;}</style><div class=\"css-y4udm8\"><style data-emotion=\"css 1lh32fc\">.css-1lh32fc{display:-webkit-box;display:-webkit-flex;display:-ms-flexbox;display:flex;margin-bottom:8px;-webkit-align-items:center;-webkit-box-align:center;-ms-flex-align:center;align-items:center;-webkit-box-flex-wrap:wrap;-webkit-flex-wrap:wrap;-ms-flex-wrap:wrap;flex-wrap:wrap;}</style><div class=\"css-1lh32fc\"><style data-emotion=\"css n2jc4m\">.css-n2jc4m{display:-webkit-inline-box;display:-webkit-inline-flex;display:-ms-inline-flexbox;display:inline-flex;-webkit-align-items:center;-webkit-box-align:center;-ms-flex-align:center;align-items:center;-webkit-text-decoration:none;text-decoration:none;color:inherit;margin-bottom:4px;}</style><a class=\"css-n2jc4m\" href=\"/a/Internship-Jobs-in-Egypt\"><style data-emotion=\"css adtuo7\">.css-adtuo7{cursor:pointer;padding:0 4px;border-radius:4px;}</style><style data-emotion=\"css 1ve4b75\">.css-1ve4b75{font-size:12px;font-weight:600;display:-webkit-inline-box;display:-webkit-inline-flex;display:-ms-inline-flexbox;display:inline-flex;-webkit-align-items:center;-webkit-box-align:center;-ms-flex-align:center;align-items:center;min-height:20px;margin-right:4px;border-radius:2px;max-width:196px;white-space:nowrap;overflow:hidden;cursor:default;text-overflow:ellipsis;padding:2px 4px;background-color:#EBEDF0;color:#001433;cursor:pointer;padding:0 4px;border-radius:4px;}</style><span class=\"css-1ve4b75 eoyjyou0\">Internship</span></a><a href=\"/a/Remote-Jobs-in-Egypt\"><style data-emotion=\"css 1i1n6hw\">.css-1i1n6hw{cursor:pointer;padding:0 4px;border-radius:4px;margin-bottom:4px;}</style><style data-emotion=\"css o1vzmt\">.css-o1vzmt{font-size:12px;font-weight:600;display:-webkit-inline-box;display:-webkit-inline-flex;display:-ms-inline-flexbox;display:inline-flex;-webkit-align-items:center;-webkit-box-align:center;-ms-flex-align:center;align-items:center;min-height:20px;margin-right:4px;border-radius:2px;max-width:196px;white-space:nowrap;overflow:hidden;cursor:default;text-overflow:ellipsis;padding:2px 4px;background-color:#EBEDF0;color:#001433;cursor:pointer;padding:0 4px;border-radius:4px;margin-bottom:4px;}</style><span class=\"css-o1vzmt eoyjyou0\">Remote</span></a></div><div><a class=\"css-o171kl\" href=\"/a/Student-Jobs-in-Egypt\">Student</a> <span>· <!-- -->0 - 1 Yrs of Exp</span><a class=\"css-o171kl\" href=\"/a/IT-Software-Development-Jobs-in-Egypt\"> <!-- -->· <!-- -->IT/Software Development</a><a class=\"css-o171kl\" href=\"/a/Engineering-Telecom-Technology-Jobs-in-Egypt\"> <!-- -->· <!-- -->Engineering - Telecom/Technology</a> <!-- -->·<!-- --> <style data-emotion=\"css 5x9pm1\">.css-5x9pm1{-webkit-text-decoration:none;text-decoration:none;color:inherit;max-width:calc(100vw / 2 - 32px);white-space:nowrap;overflow:hidden;text-overflow:ellipsis;display:-webkit-inline-box;display:-webkit-inline-flex;display:-ms-inline-flexbox;display:inline-flex;}</style><a class=\"css-5x9pm1\" href=\"/a/Computer-Science-Jobs-in-Egypt\"><span><span>Computer </span><strong class=\"highlight\">Science</strong></span></a><a class=\"css-5x9pm1\" href=\"/a/Algorithms-Jobs-in-Egypt\"> <!-- -->· <!-- -->Algorithms</a><a class=\"css-5x9pm1\" href=\"/a/Information-Technology-IT-Jobs-in-Egypt\"> <!-- -->· <!-- -->Information Technology (IT)</a><a class=\"css-5x9pm1\" href=\"/a/Python-Jobs-in-Egypt\"> <!-- -->· <!-- -->Python</a><a class=\"css-5x9pm1\" href=\"/a/Software-Jobs-in-Egypt\"> <!-- -->· <!-- -->Software</a><a class=\"css-5x9pm1\" href=\"/a/Software-Development-Jobs-in-Egypt\"> <!-- -->· <!-- -->Software Development</a><a class=\"css-5x9pm1\" href=\"/a/Software-Engineering-Jobs-in-Egypt\"> <!-- -->· <!-- -->Software Engineering</a><a class=\"css-5x9pm1\" href=\"/a/Programming-Jobs-in-Egypt\"> <!-- -->· <!-- -->Programming</a></div></div></div></div>"
      ]
     },
     "execution_count": 3,
     "metadata": {},
     "output_type": "execute_result"
    }
   ],
   "source": [
    "table=soup.find_all('div',class_='css-1gatmva e1v1l3u10')[0]\n",
    "table"
   ]
  },
  {
   "cell_type": "code",
   "execution_count": 4,
   "id": "946718b3",
   "metadata": {},
   "outputs": [
    {
     "data": {
      "text/plain": [
       "'AI & Data Science Python Developer Intern'"
      ]
     },
     "execution_count": 4,
     "metadata": {},
     "output_type": "execute_result"
    }
   ],
   "source": [
    "job_name=table.find('h2',class_='css-m604qf').find('a',class_=\"css-o171kl\").text\n",
    "job_name"
   ]
  },
  {
   "cell_type": "code",
   "execution_count": 5,
   "id": "e1739de9",
   "metadata": {},
   "outputs": [
    {
     "data": {
      "text/plain": [
       "'Sequel Solutions'"
      ]
     },
     "execution_count": 5,
     "metadata": {},
     "output_type": "execute_result"
    }
   ],
   "source": [
    "comp_name=table.find('div',class_='css-d7j1kk').find('a',class_='css-17s97q8').text.strip(' -')\n",
    "comp_name"
   ]
  },
  {
   "cell_type": "code",
   "execution_count": 6,
   "id": "4b2ae531",
   "metadata": {},
   "outputs": [
    {
     "data": {
      "text/plain": [
       "'Cairo'"
      ]
     },
     "execution_count": 6,
     "metadata": {},
     "output_type": "execute_result"
    }
   ],
   "source": [
    "city=table.find('span',class_='css-5wys0k').text.split(',')\n",
    "city[0]"
   ]
  },
  {
   "cell_type": "code",
   "execution_count": 7,
   "id": "a7ad325a",
   "metadata": {},
   "outputs": [
    {
     "data": {
      "text/plain": [
       "'Egypt'"
      ]
     },
     "execution_count": 7,
     "metadata": {},
     "output_type": "execute_result"
    }
   ],
   "source": [
    "country=city[1].strip()\n",
    "country"
   ]
  },
  {
   "cell_type": "code",
   "execution_count": 8,
   "id": "cca47842",
   "metadata": {},
   "outputs": [
    {
     "data": {
      "text/plain": [
       "'Internship'"
      ]
     },
     "execution_count": 8,
     "metadata": {},
     "output_type": "execute_result"
    }
   ],
   "source": [
    "job_type=table.find('div',class_='css-1lh32fc').find('span',class_='css-1ve4b75 eoyjyou0').text\n",
    "job_type"
   ]
  },
  {
   "cell_type": "code",
   "execution_count": 9,
   "id": "a5a50c79",
   "metadata": {},
   "outputs": [
    {
     "data": {
      "text/plain": [
       "[<span class=\"css-1ve4b75 eoyjyou0\">Internship</span>,\n",
       " <span class=\"css-o1vzmt eoyjyou0\">Remote</span>,\n",
       " <span>· <!-- -->0 - 1 Yrs of Exp</span>,\n",
       " <span><span>Computer </span><strong class=\"highlight\">Science</strong></span>,\n",
       " <span>Computer </span>]"
      ]
     },
     "execution_count": 9,
     "metadata": {},
     "output_type": "execute_result"
    }
   ],
   "source": [
    "exp_years=table.find('div',class_='css-y4udm8').find_all('span')\n",
    "\n",
    "exp_years"
   ]
  },
  {
   "cell_type": "code",
   "execution_count": 10,
   "id": "4ebab7c3",
   "metadata": {},
   "outputs": [
    {
     "data": {
      "text/plain": [
       "'Student'"
      ]
     },
     "execution_count": 10,
     "metadata": {},
     "output_type": "execute_result"
    }
   ],
   "source": [
    "exp_level=table.find_all('a',class_='css-o171kl')[1].text\n",
    "exp_level"
   ]
  },
  {
   "cell_type": "code",
   "execution_count": 11,
   "id": "ff6dd32a",
   "metadata": {},
   "outputs": [
    {
     "data": {
      "text/plain": [
       "'IT/Software Development'"
      ]
     },
     "execution_count": 11,
     "metadata": {},
     "output_type": "execute_result"
    }
   ],
   "source": [
    "skills=table.find_all('a',class_='css-o171kl')[2].text.strip(' · ')\n",
    "skills"
   ]
  },
  {
   "cell_type": "code",
   "execution_count": 19,
   "id": "f24e4d06",
   "metadata": {},
   "outputs": [
    {
     "data": {
      "text/html": [
       "<div>\n",
       "<style scoped>\n",
       "    .dataframe tbody tr th:only-of-type {\n",
       "        vertical-align: middle;\n",
       "    }\n",
       "\n",
       "    .dataframe tbody tr th {\n",
       "        vertical-align: top;\n",
       "    }\n",
       "\n",
       "    .dataframe thead th {\n",
       "        text-align: right;\n",
       "    }\n",
       "</style>\n",
       "<table border=\"1\" class=\"dataframe\">\n",
       "  <thead>\n",
       "    <tr style=\"text-align: right;\">\n",
       "      <th></th>\n",
       "      <th>Job</th>\n",
       "      <th>Company_Name</th>\n",
       "      <th>City</th>\n",
       "      <th>Country</th>\n",
       "      <th>Job_Type</th>\n",
       "      <th>Experience_Level</th>\n",
       "      <th>Experience_Years</th>\n",
       "      <th>Skills</th>\n",
       "    </tr>\n",
       "  </thead>\n",
       "  <tbody>\n",
       "  </tbody>\n",
       "</table>\n",
       "</div>"
      ],
      "text/plain": [
       "Empty DataFrame\n",
       "Columns: [Job, Company_Name, City, Country, Job_Type, Experience_Level, Experience_Years, Skills]\n",
       "Index: []"
      ]
     },
     "execution_count": 19,
     "metadata": {},
     "output_type": "execute_result"
    }
   ],
   "source": [
    "df = pd.DataFrame(columns=['Job','Company_Name','City','Country','Job_Type','Experience_Level','Experience_Years','Skills'])\n",
    "df"
   ]
  },
  {
   "cell_type": "markdown",
   "id": "562144ed",
   "metadata": {},
   "source": [
    "## The full code to make data scraping for any page we want \n"
   ]
  },
  {
   "cell_type": "code",
   "execution_count": 20,
   "id": "9f4e7567",
   "metadata": {},
   "outputs": [
    {
     "name": "stdout",
     "output_type": "stream",
     "text": [
      "Please enter the URL you want to scrape: https://wuzzuf.net/search/jobs/?a=hpb%7Cspbg&q=data%20science&start=0\n"
     ]
    }
   ],
   "source": [
    "link_by_user = input('Please enter the URL you want to scrape: ')"
   ]
  },
  {
   "cell_type": "code",
   "execution_count": 21,
   "id": "8f8c7382",
   "metadata": {},
   "outputs": [],
   "source": [
    "def data_scraping(link):\n",
    "    i = 0\n",
    "    while True:\n",
    "        pages = link.strip('&start=0')\n",
    "        url = f'{pages}&start={i}'\n",
    "        page = requests.get(url)\n",
    "        soup = BeautifulSoup(page.text, 'html')\n",
    "\n",
    "        table = soup.find_all('div', class_='css-1gatmva e1v1l3u10')\n",
    "\n",
    "        \n",
    "        if not table:\n",
    "            break  \n",
    "\n",
    "        for jobs in table:\n",
    "            \n",
    "            job_name = jobs.find('h2', class_='css-m604qf').find('a', class_='css-o171kl').text\n",
    "           \n",
    "\n",
    "            comp_name = jobs.find('div', class_='css-d7j1kk').find('a', class_='css-17s97q8').text.strip(' -')\n",
    "\n",
    "            location_element = jobs.find('span', class_='css-5wys0k')\n",
    "            if location_element:\n",
    "                location_text = location_element.text\n",
    "                city_country_list = location_text.split(',')\n",
    "                if len(city_country_list) >= 2:\n",
    "                    city = city_country_list[0].strip()\n",
    "                    country = city_country_list[-1].strip()\n",
    "                else:\n",
    "                    city = country = \"Not specified\"\n",
    "            else:\n",
    "                city = country = \"Not specified\"\n",
    "\n",
    "            job_type = jobs.find('div', class_='css-1lh32fc').find('span', class_='css-1ve4b75 eoyjyou0').text\n",
    "\n",
    "            exp_years_elem = jobs.find('div', class_='css-y4udm8').find_all('span')\n",
    "            exp_years = \"\"\n",
    "            for elem in exp_years_elem:\n",
    "                if 'Yrs of Exp' in elem.text:\n",
    "                    exp_years = elem.text.strip('·  Yrs of Exp')\n",
    "                    break\n",
    "            if not exp_years:\n",
    "                exp_years = \"Not specified\"\n",
    "\n",
    "            exp_level = jobs.find_all('a', class_='css-o171kl')[1].text\n",
    "\n",
    "            skills = jobs.find_all('a', class_='css-o171kl')[2].text.strip(' · ')\n",
    "\n",
    "            df.loc[len(df.index)] = [job_name, comp_name, city, country, job_type, exp_level, exp_years, skills]\n",
    "        \n",
    "        \n",
    "        i += 1\n",
    "\n",
    "    return df\n",
    "\n"
   ]
  },
  {
   "cell_type": "code",
   "execution_count": 22,
   "id": "69592a55",
   "metadata": {},
   "outputs": [
    {
     "data": {
      "text/html": [
       "<div>\n",
       "<style scoped>\n",
       "    .dataframe tbody tr th:only-of-type {\n",
       "        vertical-align: middle;\n",
       "    }\n",
       "\n",
       "    .dataframe tbody tr th {\n",
       "        vertical-align: top;\n",
       "    }\n",
       "\n",
       "    .dataframe thead th {\n",
       "        text-align: right;\n",
       "    }\n",
       "</style>\n",
       "<table border=\"1\" class=\"dataframe\">\n",
       "  <thead>\n",
       "    <tr style=\"text-align: right;\">\n",
       "      <th></th>\n",
       "      <th>Job</th>\n",
       "      <th>Company_Name</th>\n",
       "      <th>City</th>\n",
       "      <th>Country</th>\n",
       "      <th>Job_Type</th>\n",
       "      <th>Experience_Level</th>\n",
       "      <th>Experience_Years</th>\n",
       "      <th>Skills</th>\n",
       "    </tr>\n",
       "  </thead>\n",
       "  <tbody>\n",
       "    <tr>\n",
       "      <th>0</th>\n",
       "      <td>AI &amp; Data Science Python Developer Intern</td>\n",
       "      <td>Sequel Solutions</td>\n",
       "      <td>Cairo</td>\n",
       "      <td>Egypt</td>\n",
       "      <td>Internship</td>\n",
       "      <td>Student</td>\n",
       "      <td>0 - 1</td>\n",
       "      <td>IT/Software Development</td>\n",
       "    </tr>\n",
       "    <tr>\n",
       "      <th>1</th>\n",
       "      <td>Senior Accountant</td>\n",
       "      <td>Data Science</td>\n",
       "      <td>Hadayek October</td>\n",
       "      <td>Egypt</td>\n",
       "      <td>Full Time</td>\n",
       "      <td>Experienced</td>\n",
       "      <td>3 - 5</td>\n",
       "      <td>Accounting/Finance</td>\n",
       "    </tr>\n",
       "    <tr>\n",
       "      <th>2</th>\n",
       "      <td>Telesales Representative &amp; Data Collector</td>\n",
       "      <td>Diamond</td>\n",
       "      <td>Haram</td>\n",
       "      <td>Egypt</td>\n",
       "      <td>Full Time</td>\n",
       "      <td>Experienced</td>\n",
       "      <td>3 - 5</td>\n",
       "      <td>R&amp;D/Science</td>\n",
       "    </tr>\n",
       "    <tr>\n",
       "      <th>3</th>\n",
       "      <td>Data Management Supervisor</td>\n",
       "      <td>Nahdet Misr Publishing Group</td>\n",
       "      <td>Mohandessin</td>\n",
       "      <td>Egypt</td>\n",
       "      <td>Full Time</td>\n",
       "      <td>Experienced</td>\n",
       "      <td>6 - 8</td>\n",
       "      <td>Operations/Management</td>\n",
       "    </tr>\n",
       "    <tr>\n",
       "      <th>4</th>\n",
       "      <td>Data Analyst</td>\n",
       "      <td>Confidential</td>\n",
       "      <td>Mohandessin</td>\n",
       "      <td>Egypt</td>\n",
       "      <td>Full Time</td>\n",
       "      <td>Entry Level</td>\n",
       "      <td>1 - 2</td>\n",
       "      <td>Analyst/Research</td>\n",
       "    </tr>\n",
       "    <tr>\n",
       "      <th>...</th>\n",
       "      <td>...</td>\n",
       "      <td>...</td>\n",
       "      <td>...</td>\n",
       "      <td>...</td>\n",
       "      <td>...</td>\n",
       "      <td>...</td>\n",
       "      <td>...</td>\n",
       "      <td>...</td>\n",
       "    </tr>\n",
       "    <tr>\n",
       "      <th>1242</th>\n",
       "      <td>Sustainability Consultant</td>\n",
       "      <td>dss+</td>\n",
       "      <td>Dubai</td>\n",
       "      <td>United Arab Emirates</td>\n",
       "      <td>Full Time</td>\n",
       "      <td>Experienced</td>\n",
       "      <td>Not specified</td>\n",
       "      <td>Accounting/Finance</td>\n",
       "    </tr>\n",
       "    <tr>\n",
       "      <th>1243</th>\n",
       "      <td>Regional SHE Manager</td>\n",
       "      <td>S.C. Johnson &amp; Son Inc</td>\n",
       "      <td>Cairo</td>\n",
       "      <td>Egypt</td>\n",
       "      <td>Full Time</td>\n",
       "      <td>Not specified</td>\n",
       "      <td>Not specified</td>\n",
       "      <td>Business Development</td>\n",
       "    </tr>\n",
       "    <tr>\n",
       "      <th>1244</th>\n",
       "      <td>Front of House &amp; Parent Liaison Officer - Rege...</td>\n",
       "      <td>schoolscompared</td>\n",
       "      <td>Dubai</td>\n",
       "      <td>United Arab Emirates</td>\n",
       "      <td>Full Time</td>\n",
       "      <td>Not specified</td>\n",
       "      <td>Not specified</td>\n",
       "      <td>Administration</td>\n",
       "    </tr>\n",
       "    <tr>\n",
       "      <th>1245</th>\n",
       "      <td>Market Access Private Health Insurance Manager...</td>\n",
       "      <td>Johnson &amp; Johnson</td>\n",
       "      <td>Dubai</td>\n",
       "      <td>United Arab Emirates</td>\n",
       "      <td>Full Time</td>\n",
       "      <td>Not specified</td>\n",
       "      <td>Not specified</td>\n",
       "      <td>Marketing/PR/Advertising</td>\n",
       "    </tr>\n",
       "    <tr>\n",
       "      <th>1246</th>\n",
       "      <td>Oliver Wyman - Digital Strategy - Associate / ...</td>\n",
       "      <td>Marsh McLennan International</td>\n",
       "      <td>Dubai</td>\n",
       "      <td>United Arab Emirates</td>\n",
       "      <td>Full Time</td>\n",
       "      <td>Not specified</td>\n",
       "      <td>Not specified</td>\n",
       "      <td>IT/Software Development</td>\n",
       "    </tr>\n",
       "  </tbody>\n",
       "</table>\n",
       "<p>1247 rows × 8 columns</p>\n",
       "</div>"
      ],
      "text/plain": [
       "                                                    Job  \\\n",
       "0             AI & Data Science Python Developer Intern   \n",
       "1                                     Senior Accountant   \n",
       "2             Telesales Representative & Data Collector   \n",
       "3                            Data Management Supervisor   \n",
       "4                                          Data Analyst   \n",
       "...                                                 ...   \n",
       "1242                          Sustainability Consultant   \n",
       "1243                               Regional SHE Manager   \n",
       "1244  Front of House & Parent Liaison Officer - Rege...   \n",
       "1245  Market Access Private Health Insurance Manager...   \n",
       "1246  Oliver Wyman - Digital Strategy - Associate / ...   \n",
       "\n",
       "                      Company_Name             City               Country  \\\n",
       "0                 Sequel Solutions            Cairo                 Egypt   \n",
       "1                     Data Science  Hadayek October                 Egypt   \n",
       "2                          Diamond            Haram                 Egypt   \n",
       "3     Nahdet Misr Publishing Group      Mohandessin                 Egypt   \n",
       "4                     Confidential      Mohandessin                 Egypt   \n",
       "...                            ...              ...                   ...   \n",
       "1242                          dss+            Dubai  United Arab Emirates   \n",
       "1243        S.C. Johnson & Son Inc            Cairo                 Egypt   \n",
       "1244               schoolscompared            Dubai  United Arab Emirates   \n",
       "1245             Johnson & Johnson            Dubai  United Arab Emirates   \n",
       "1246  Marsh McLennan International            Dubai  United Arab Emirates   \n",
       "\n",
       "        Job_Type Experience_Level Experience_Years                    Skills  \n",
       "0     Internship          Student            0 - 1   IT/Software Development  \n",
       "1      Full Time      Experienced            3 - 5        Accounting/Finance  \n",
       "2      Full Time      Experienced            3 - 5               R&D/Science  \n",
       "3      Full Time      Experienced            6 - 8     Operations/Management  \n",
       "4      Full Time      Entry Level            1 - 2          Analyst/Research  \n",
       "...          ...              ...              ...                       ...  \n",
       "1242   Full Time      Experienced    Not specified        Accounting/Finance  \n",
       "1243   Full Time    Not specified    Not specified      Business Development  \n",
       "1244   Full Time    Not specified    Not specified            Administration  \n",
       "1245   Full Time    Not specified    Not specified  Marketing/PR/Advertising  \n",
       "1246   Full Time    Not specified    Not specified   IT/Software Development  \n",
       "\n",
       "[1247 rows x 8 columns]"
      ]
     },
     "execution_count": 22,
     "metadata": {},
     "output_type": "execute_result"
    }
   ],
   "source": [
    "data_scraping(link_by_user)"
   ]
  },
  {
   "cell_type": "code",
   "execution_count": null,
   "id": "8bfb0faa",
   "metadata": {},
   "outputs": [],
   "source": []
  }
 ],
 "metadata": {
  "kernelspec": {
   "display_name": "Python 3 (ipykernel)",
   "language": "python",
   "name": "python3"
  },
  "language_info": {
   "codemirror_mode": {
    "name": "ipython",
    "version": 3
   },
   "file_extension": ".py",
   "mimetype": "text/x-python",
   "name": "python",
   "nbconvert_exporter": "python",
   "pygments_lexer": "ipython3",
   "version": "3.11.5"
  }
 },
 "nbformat": 4,
 "nbformat_minor": 5
}
